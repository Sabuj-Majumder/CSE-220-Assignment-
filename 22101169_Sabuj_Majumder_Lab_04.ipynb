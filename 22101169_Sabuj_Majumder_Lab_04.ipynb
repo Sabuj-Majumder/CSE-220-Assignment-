{
  "nbformat": 4,
  "nbformat_minor": 0,
  "metadata": {
    "colab": {
      "provenance": [],
      "authorship_tag": "ABX9TyNkcllbq5QWNV5fm6wol5Md",
      "include_colab_link": true
    },
    "kernelspec": {
      "name": "python3",
      "display_name": "Python 3"
    },
    "language_info": {
      "name": "python"
    }
  },
  "cells": [
    {
      "cell_type": "markdown",
      "metadata": {
        "id": "view-in-github",
        "colab_type": "text"
      },
      "source": [
        "<a href=\"https://colab.research.google.com/github/Sabuj-Majumder/CSE-220-Assignment-/blob/main/22101169_Sabuj_Majumder_Lab_04.ipynb\" target=\"_parent\"><img src=\"https://colab.research.google.com/assets/colab-badge.svg\" alt=\"Open In Colab\"/></a>"
      ]
    },
    {
      "cell_type": "code",
      "execution_count": null,
      "metadata": {
        "id": "Vs9W8wDMh25p",
        "colab": {
          "base_uri": "https://localhost:8080/"
        },
        "outputId": "bb18131a-07f4-429c-9829-fee6f3d1fc9b"
      },
      "outputs": [
        {
          "output_type": "stream",
          "name": "stdout",
          "text": [
            "Successfully registered a patient.\n",
            "Successfully registered a patient.\n",
            "Successfully registered a patient.\n",
            "Serve Patient : Ab\n",
            "Name: Abc\n",
            "Name: Abcd\n",
            "No, the doctor can't go home .\n",
            "Serve Patient : Abc\n",
            "Successfully cancel all appointments.\n",
            "No patients available right now.\n",
            "No patients available right now.\n",
            "No patients available right now.\n",
            "Yes, the doctor can go home.\n"
          ]
        }
      ],
      "source": [
        "class Patient:\n",
        "  def __init__(self,id,nm,ag,bg):\n",
        "    self.id=id\n",
        "    self.nm=nm\n",
        "    self.ag=ag\n",
        "    self.bg=bg\n",
        "    self.next=None\n",
        "    self.prev=None\n",
        "\n",
        "\n",
        "class WRM:\n",
        "  def __init__(self):\n",
        "    self.head=None\n",
        "    self.tail=None\n",
        "\n",
        "  def RegisterPatient(self,id, name, age, bloodgroup):\n",
        "      ob=Patient(id, name, age, bloodgroup)\n",
        "      if self.head is None:\n",
        "        self.head=ob\n",
        "        self.tail = ob\n",
        "        ob.next = ob\n",
        "        ob.prev = ob\n",
        "      else:\n",
        "        ob.next=self.head\n",
        "        self.head.prev=ob\n",
        "        ob.prev=self.tail\n",
        "        self.tail.next=ob\n",
        "        self.tail=ob\n",
        "      print(\"Successfully registered a patient.\")\n",
        "\n",
        "\n",
        "\n",
        "  def  ServePatient(self):\n",
        "    if self.head !=None:\n",
        "        print(\"Serve Patient :\",self.head.nm)\n",
        "        if self.head==self.tail:\n",
        "          self.head=None\n",
        "          self.tail=None\n",
        "        else:\n",
        "          self.head=self.head.next\n",
        "          self.head.prev=self.tail\n",
        "          self.tail.next=self.head\n",
        "\n",
        "    else:\n",
        "      print(\"No patients available right now.\")\n",
        "\n",
        "  def CancelAll(self):\n",
        "    self.head=None\n",
        "    self.tail=None\n",
        "    print(\"Successfully cancel all appointments.\")\n",
        "  def CanDoctorGoHome(self):\n",
        "    if self.head is None:\n",
        "      print(\"Yes, the doctor can go home.\")\n",
        "    else:\n",
        "      print(\"No, the doctor can't go home .\")\n",
        "  def ShowAllPatient(self):\n",
        "        if self.head is None:\n",
        "          print(\"No patients available right now.\")\n",
        "          return\n",
        "        else:\n",
        "          temp = self.head\n",
        "          while temp.next!=self.head:\n",
        "\n",
        "            print(\"Name:\", temp.nm)\n",
        "            temp=temp.next\n",
        "          print(\"Name:\",temp.nm)\n",
        "\n",
        "\n",
        "\n",
        "\n",
        "\n",
        "\n",
        "wrm = WRM()\n",
        "ob=Patient(None,None,None,None)\n",
        "wrm.RegisterPatient(10,\"Ab\", 20, \"A+\")\n",
        "wrm.RegisterPatient(11,\"Abc\", 30, \"B+\")\n",
        "wrm.RegisterPatient(12,\"Abcd\", 40, \"AB+\")\n",
        "wrm.ServePatient()\n",
        "wrm.ShowAllPatient()\n",
        "wrm.CanDoctorGoHome()\n",
        "wrm.ServePatient()\n",
        "wrm.CancelAll()\n",
        "wrm.ShowAllPatient()\n",
        "wrm.ServePatient()\n",
        "wrm.ServePatient()\n",
        "wrm.CanDoctorGoHome()\n"
      ]
    }
  ]
}